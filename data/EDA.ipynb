{
 "cells": [
  {
   "cell_type": "code",
   "execution_count": 1,
   "id": "0d7a2a96",
   "metadata": {},
   "outputs": [],
   "source": [
    "import pandas as pd\n",
    "import re\n",
    "import os\n",
    "from pymongo import MongoClient\n",
    "\n",
    "# Charger le dataset\n",
    "df = pd.read_csv('/Users/axellerolain/Desktop/P5/DATA/dataset.csv')\n"
   ]
  },
  {
   "cell_type": "markdown",
   "id": "8ab49bd4",
   "metadata": {},
   "source": [
    "# Nettoyage"
   ]
  },
  {
   "cell_type": "code",
   "execution_count": 2,
   "id": "f17a82fa",
   "metadata": {},
   "outputs": [
    {
     "name": "stdout",
     "output_type": "stream",
     "text": [
      "            Name  Age  Gender Blood Type Medical Condition Date of Admission  \\\n",
      "0  Bobby JacksOn   30    Male         B-            Cancer        2024-01-31   \n",
      "1   LesLie TErRy   62    Male         A+           Obesity        2019-08-20   \n",
      "2    DaNnY sMitH   76  Female         A-           Obesity        2022-09-22   \n",
      "3   andrEw waTtS   28  Female         O+          Diabetes        2020-11-18   \n",
      "4  adrIENNE bEll   43  Female        AB+            Cancer        2022-09-19   \n",
      "\n",
      "             Doctor                    Hospital Insurance Provider  \\\n",
      "0     Matthew Smith             Sons and Miller         Blue Cross   \n",
      "1   Samantha Davies                     Kim Inc           Medicare   \n",
      "2  Tiffany Mitchell                    Cook PLC              Aetna   \n",
      "3       Kevin Wells  Hernandez Rogers and Vang,           Medicare   \n",
      "4    Kathleen Hanna                 White-White              Aetna   \n",
      "\n",
      "   Billing Amount  Room Number Admission Type Discharge Date   Medication  \\\n",
      "0    18856.281306          328         Urgent     2024-02-02  Paracetamol   \n",
      "1    33643.327287          265      Emergency     2019-08-26    Ibuprofen   \n",
      "2    27955.096079          205      Emergency     2022-10-07      Aspirin   \n",
      "3    37909.782410          450       Elective     2020-12-18    Ibuprofen   \n",
      "4    14238.317814          458         Urgent     2022-10-09   Penicillin   \n",
      "\n",
      "   Test Results  \n",
      "0        Normal  \n",
      "1  Inconclusive  \n",
      "2        Normal  \n",
      "3      Abnormal  \n",
      "4      Abnormal  \n"
     ]
    }
   ],
   "source": [
    "# Affiche les 5 premières lignes\n",
    "print(df.head())  "
   ]
  },
  {
   "cell_type": "markdown",
   "id": "77cdf5eb",
   "metadata": {},
   "source": [
    "**Prob de casse sur les noms des patients + split à faire pour avoir 2 colonnes** "
   ]
  },
  {
   "cell_type": "code",
   "execution_count": 3,
   "id": "d668396f",
   "metadata": {},
   "outputs": [
    {
     "name": "stdout",
     "output_type": "stream",
     "text": [
      "(55500, 15)\n"
     ]
    }
   ],
   "source": [
    "# Nombre de lignes et colonnes\n",
    "print(df.shape) "
   ]
  },
  {
   "cell_type": "markdown",
   "id": "c4d1ba17",
   "metadata": {},
   "source": [
    "55500 lignes pour 15 colonnes"
   ]
  },
  {
   "cell_type": "code",
   "execution_count": 4,
   "id": "5232d6c8",
   "metadata": {},
   "outputs": [
    {
     "name": "stdout",
     "output_type": "stream",
     "text": [
      "<class 'pandas.core.frame.DataFrame'>\n",
      "RangeIndex: 55500 entries, 0 to 55499\n",
      "Data columns (total 15 columns):\n",
      " #   Column              Non-Null Count  Dtype  \n",
      "---  ------              --------------  -----  \n",
      " 0   Name                55500 non-null  object \n",
      " 1   Age                 55500 non-null  int64  \n",
      " 2   Gender              55500 non-null  object \n",
      " 3   Blood Type          55500 non-null  object \n",
      " 4   Medical Condition   55500 non-null  object \n",
      " 5   Date of Admission   55500 non-null  object \n",
      " 6   Doctor              55500 non-null  object \n",
      " 7   Hospital            55500 non-null  object \n",
      " 8   Insurance Provider  55500 non-null  object \n",
      " 9   Billing Amount      55500 non-null  float64\n",
      " 10  Room Number         55500 non-null  int64  \n",
      " 11  Admission Type      55500 non-null  object \n",
      " 12  Discharge Date      55500 non-null  object \n",
      " 13  Medication          55500 non-null  object \n",
      " 14  Test Results        55500 non-null  object \n",
      "dtypes: float64(1), int64(2), object(12)\n",
      "memory usage: 6.4+ MB\n",
      "\n",
      "Infos :\n",
      " None\n"
     ]
    }
   ],
   "source": [
    "# Informations sur le DataFrame\n",
    "print(\"\\nInfos :\\n\", df.info())\n"
   ]
  },
  {
   "cell_type": "code",
   "execution_count": 5,
   "id": "b4beaa85",
   "metadata": {},
   "outputs": [
    {
     "name": "stdout",
     "output_type": "stream",
     "text": [
      "\n",
      "Statistiques descriptives :\n",
      "                 Age  Billing Amount   Room Number\n",
      "count  55500.000000    55500.000000  55500.000000\n",
      "mean      51.539459    25539.316097    301.134829\n",
      "std       19.602454    14211.454431    115.243069\n",
      "min       13.000000    -2008.492140    101.000000\n",
      "25%       35.000000    13241.224652    202.000000\n",
      "50%       52.000000    25538.069376    302.000000\n",
      "75%       68.000000    37820.508436    401.000000\n",
      "max       89.000000    52764.276736    500.000000\n"
     ]
    }
   ],
   "source": [
    "# Statistiques descriptives pour les colonnes numériques\n",
    "print(\"\\nStatistiques descriptives :\\n\", df.describe())"
   ]
  },
  {
   "cell_type": "code",
   "execution_count": 6,
   "id": "bf8fc4f7",
   "metadata": {},
   "outputs": [
    {
     "name": "stdout",
     "output_type": "stream",
     "text": [
      "Colonnes du dataset : ['Name', 'Age', 'Gender', 'Blood Type', 'Medical Condition', 'Date of Admission', 'Doctor', 'Hospital', 'Insurance Provider', 'Billing Amount', 'Room Number', 'Admission Type', 'Discharge Date', 'Medication', 'Test Results']\n",
      "\n",
      "Types de données :\n",
      " Name                   object\n",
      "Age                     int64\n",
      "Gender                 object\n",
      "Blood Type             object\n",
      "Medical Condition      object\n",
      "Date of Admission      object\n",
      "Doctor                 object\n",
      "Hospital               object\n",
      "Insurance Provider     object\n",
      "Billing Amount        float64\n",
      "Room Number             int64\n",
      "Admission Type         object\n",
      "Discharge Date         object\n",
      "Medication             object\n",
      "Test Results           object\n",
      "dtype: object\n"
     ]
    }
   ],
   "source": [
    "# Affichage des colonnes\n",
    "print(\"Colonnes du dataset :\", df.columns.tolist())\n",
    "# Affichage des types de données\n",
    "print(\"\\nTypes de données :\\n\", df.dtypes)"
   ]
  },
  {
   "cell_type": "markdown",
   "id": "03ee2a0f",
   "metadata": {},
   "source": [
    "**Les dates ne sont pas au bon format > à changer en datetime** "
   ]
  },
  {
   "cell_type": "code",
   "execution_count": 7,
   "id": "7a27d4df",
   "metadata": {},
   "outputs": [
    {
     "name": "stdout",
     "output_type": "stream",
     "text": [
      "\n",
      "Valeurs manquantes par colonne :\n",
      " Name                  0\n",
      "Age                   0\n",
      "Gender                0\n",
      "Blood Type            0\n",
      "Medical Condition     0\n",
      "Date of Admission     0\n",
      "Doctor                0\n",
      "Hospital              0\n",
      "Insurance Provider    0\n",
      "Billing Amount        0\n",
      "Room Number           0\n",
      "Admission Type        0\n",
      "Discharge Date        0\n",
      "Medication            0\n",
      "Test Results          0\n",
      "dtype: int64\n"
     ]
    }
   ],
   "source": [
    "# Check des valeurs manquantes\n",
    "print(\"\\nValeurs manquantes par colonne :\\n\", df.isnull().sum())"
   ]
  },
  {
   "cell_type": "markdown",
   "id": "95dd52a7",
   "metadata": {},
   "source": [
    "**Aucune valeur manquantes**"
   ]
  },
  {
   "cell_type": "code",
   "execution_count": 8,
   "id": "2572ea63",
   "metadata": {},
   "outputs": [
    {
     "name": "stdout",
     "output_type": "stream",
     "text": [
      "\n",
      "Statistiques descriptives :\n",
      "                 Age  Billing Amount   Room Number\n",
      "count  55500.000000    55500.000000  55500.000000\n",
      "mean      51.539459    25539.316097    301.134829\n",
      "std       19.602454    14211.454431    115.243069\n",
      "min       13.000000    -2008.492140    101.000000\n",
      "25%       35.000000    13241.224652    202.000000\n",
      "50%       52.000000    25538.069376    302.000000\n",
      "75%       68.000000    37820.508436    401.000000\n",
      "max       89.000000    52764.276736    500.000000\n"
     ]
    }
   ],
   "source": [
    "# Statistiques descriptives pour les colonnes numériques\n",
    "print(\"\\nStatistiques descriptives :\\n\", df.describe())"
   ]
  },
  {
   "cell_type": "markdown",
   "id": "2a6a7e9e",
   "metadata": {},
   "source": [
    "### Nettoyage des noms"
   ]
  },
  {
   "cell_type": "code",
   "execution_count": 9,
   "id": "d26aa159",
   "metadata": {},
   "outputs": [
    {
     "name": "stdout",
     "output_type": "stream",
     "text": [
      "\n",
      "Avant nettoyage :\n",
      " 0    Bobby JacksOn\n",
      "1     LesLie TErRy\n",
      "2      DaNnY sMitH\n",
      "3     andrEw waTtS\n",
      "4    adrIENNE bEll\n",
      "Name: Name, dtype: object\n",
      "\n",
      "Après nettoyage :\n",
      " 0    Bobby Jackson\n",
      "1     Leslie Terry\n",
      "2      Danny Smith\n",
      "3     Andrew Watts\n",
      "4    Adrienne Bell\n",
      "Name: Name, dtype: object\n",
      "\n",
      "Colonnes après modification :\n",
      " ['Age', 'Gender', 'Blood Type', 'Medical Condition', 'Date of Admission', 'Doctor', 'Hospital', 'Insurance Provider', 'Billing Amount', 'Room Number', 'Admission Type', 'Discharge Date', 'Medication', 'Test Results', 'Prenom', 'Nom']\n",
      "\n",
      "Aperçu des 5 premières lignes :\n",
      "    Age  Gender Blood Type Medical Condition Date of Admission  \\\n",
      "0   30    Male         B-            Cancer        2024-01-31   \n",
      "1   62    Male         A+           Obesity        2019-08-20   \n",
      "2   76  Female         A-           Obesity        2022-09-22   \n",
      "3   28  Female         O+          Diabetes        2020-11-18   \n",
      "4   43  Female        AB+            Cancer        2022-09-19   \n",
      "\n",
      "             Doctor                    Hospital Insurance Provider  \\\n",
      "0     Matthew Smith             Sons and Miller         Blue Cross   \n",
      "1   Samantha Davies                     Kim Inc           Medicare   \n",
      "2  Tiffany Mitchell                    Cook PLC              Aetna   \n",
      "3       Kevin Wells  Hernandez Rogers and Vang,           Medicare   \n",
      "4    Kathleen Hanna                 White-White              Aetna   \n",
      "\n",
      "   Billing Amount  Room Number Admission Type Discharge Date   Medication  \\\n",
      "0    18856.281306          328         Urgent     2024-02-02  Paracetamol   \n",
      "1    33643.327287          265      Emergency     2019-08-26    Ibuprofen   \n",
      "2    27955.096079          205      Emergency     2022-10-07      Aspirin   \n",
      "3    37909.782410          450       Elective     2020-12-18    Ibuprofen   \n",
      "4    14238.317814          458         Urgent     2022-10-09   Penicillin   \n",
      "\n",
      "   Test Results    Prenom      Nom  \n",
      "0        Normal     Bobby  Jackson  \n",
      "1  Inconclusive    Leslie    Terry  \n",
      "2        Normal     Danny    Smith  \n",
      "3      Abnormal    Andrew    Watts  \n",
      "4      Abnormal  Adrienne     Bell  \n"
     ]
    }
   ],
   "source": [
    "#Affichage des noms avant nettoyage \n",
    "print(\"\\nAvant nettoyage :\\n\", df['Name'].head())\n",
    "# Nettoyer les noms : mettre en Title Case et enlever les espaces superflus \n",
    "df[\"Name\"] = (\n",
    "    df[\"Name\"]\n",
    "    .astype(str)\n",
    "    .str.strip()\n",
    "    .str.title()\n",
    "    .str.replace(r\"\\s+\", \" \", regex=True)\n",
    ")\n",
    "\n",
    "# Split des noms en deux colonnes : last_name et first_name \n",
    "split = df[\"Name\"].str.split(\" \", n=1, expand=True)\n",
    "df[\"Prenom\"] = split[0]\n",
    "df[\"Nom\"] = split[1].fillna(\"\")\n",
    "\n",
    "# Afficher les 5 premiers noms après nettoyage\n",
    "print(\"\\nAprès nettoyage :\\n\", df['Name'].head())\n",
    "\n",
    "# Supprimer la colonne 'Name'\n",
    "df = df.drop(columns=['Name'])\n",
    "\n",
    "# Renommer 'Name_clean' en 'Name'\n",
    "df = df.rename(columns={'Name_clean': 'Name'})\n",
    "\n",
    "# Vérifier le résultat\n",
    "print(\"\\nColonnes après modification :\\n\", df.columns.tolist())\n",
    "print(\"\\nAperçu des 5 premières lignes :\\n\", df.head())"
   ]
  },
  {
   "cell_type": "code",
   "execution_count": 10,
   "id": "a5c594e1",
   "metadata": {},
   "outputs": [
    {
     "name": "stdout",
     "output_type": "stream",
     "text": [
      "Types de données après conversion :\n",
      " Age                            int64\n",
      "Gender                        object\n",
      "Blood Type                    object\n",
      "Medical Condition             object\n",
      "Date of Admission     datetime64[ns]\n",
      "Doctor                        object\n",
      "Hospital                      object\n",
      "Insurance Provider            object\n",
      "Billing Amount               float64\n",
      "Room Number                    int64\n",
      "Admission Type                object\n",
      "Discharge Date        datetime64[ns]\n",
      "Medication                    object\n",
      "Test Results                  object\n",
      "Prenom                        object\n",
      "Nom                           object\n",
      "dtype: object\n",
      "\n",
      "Exemples de Date of Admission :\n",
      " 0   2024-01-31\n",
      "1   2019-08-20\n",
      "2   2022-09-22\n",
      "3   2020-11-18\n",
      "4   2022-09-19\n",
      "Name: Date of Admission, dtype: datetime64[ns]\n",
      "\n",
      "Exemples de Discharge Date :\n",
      " 0   2024-02-02\n",
      "1   2019-08-26\n",
      "2   2022-10-07\n",
      "3   2020-12-18\n",
      "4   2022-10-09\n",
      "Name: Discharge Date, dtype: datetime64[ns]\n"
     ]
    }
   ],
   "source": [
    "# Convertir les colonnes en datetime\n",
    "df['Date of Admission'] = pd.to_datetime(df['Date of Admission'], errors='coerce')\n",
    "df['Discharge Date'] = pd.to_datetime(df['Discharge Date'], errors='coerce')\n",
    "\n",
    "# Vérifier les types de données après conversion\n",
    "print(\"Types de données après conversion :\\n\", df.dtypes)\n",
    "# Afficher quelques exemples pour vérifier\n",
    "print(\"\\nExemples de Date of Admission :\\n\", df['Date of Admission'].head())\n",
    "print(\"\\nExemples de Discharge Date :\\n\", df['Discharge Date'].head())"
   ]
  },
  {
   "cell_type": "code",
   "execution_count": 11,
   "id": "223d150c",
   "metadata": {},
   "outputs": [
    {
     "name": "stdout",
     "output_type": "stream",
     "text": [
      "\n",
      "Statistiques de Billing Amount :\n",
      " count    55500.000000\n",
      "mean     25539.316097\n",
      "std      14211.454431\n",
      "min      -2008.492140\n",
      "25%      13241.224652\n",
      "50%      25538.069376\n",
      "75%      37820.508436\n",
      "max      52764.276736\n",
      "Name: Billing Amount, dtype: float64\n",
      "\n",
      "Lignes avec Billing Amount négatif :\n",
      "             Prenom            Nom  Billing Amount Medical Condition  \\\n",
      "132         Ashley       Erickson     -502.507813            Cancer   \n",
      "799    Christopher          Weiss    -1018.245371            Asthma   \n",
      "1018        Ashley         Warner     -306.364925      Hypertension   \n",
      "1421           Jay       Galloway     -109.097122            Asthma   \n",
      "2103        Joshua     Williamson     -576.727907          Diabetes   \n",
      "...            ...            ...             ...               ...   \n",
      "52894       Joseph            Cox     -353.865186          Diabetes   \n",
      "53204       Ashley         Warner     -306.364925      Hypertension   \n",
      "53232       Daniel          Drake     -591.917419      Hypertension   \n",
      "54136          Dr.  Michael Mckay     -199.663795            Cancer   \n",
      "55276         John        Ferrell     -308.584269      Hypertension   \n",
      "\n",
      "      Admission Type                   Hospital  \n",
      "132           Urgent  and Johnson Moore, Branch  \n",
      "799         Elective              Hunter-Hughes  \n",
      "1018        Elective      and Wagner, Lee Klein  \n",
      "1421       Emergency               Group Peters  \n",
      "2103          Urgent    and Huff Reeves, Dennis  \n",
      "...              ...                        ...  \n",
      "52894       Elective                   Inc Ward  \n",
      "53204       Elective      and Wagner, Lee Klein  \n",
      "53232       Elective                   Carr Ltd  \n",
      "54136         Urgent  Mcconnell and Rios, Clark  \n",
      "55276      Emergency                Inc Spencer  \n",
      "\n",
      "[108 rows x 6 columns]\n",
      "\n",
      "Nombre de Billing Amount négatifs : 108\n"
     ]
    }
   ],
   "source": [
    "# Afficher les statistiques de Billing Amount\n",
    "print(\"\\nStatistiques de Billing Amount :\\n\", df['Billing Amount'].describe())\n",
    "\n",
    "# Identifier les lignes avec Billing Amount négatif\n",
    "negative_billing = df[df['Billing Amount'] < 0]\n",
    "print(\"\\nLignes avec Billing Amount négatif :\\n\", negative_billing[['Prenom','Nom', 'Billing Amount', 'Medical Condition', 'Admission Type', 'Hospital']])\n",
    "print(\"\\nNombre de Billing Amount négatifs :\", len(negative_billing))"
   ]
  },
  {
   "cell_type": "code",
   "execution_count": 12,
   "id": "05d54251",
   "metadata": {},
   "outputs": [
    {
     "name": "stdout",
     "output_type": "stream",
     "text": [
      "Taille du dataset après suppression des doublons : (54966, 16)\n"
     ]
    }
   ],
   "source": [
    "df = df.drop_duplicates()\n",
    "print(\"Taille du dataset après suppression des doublons :\", df.shape)"
   ]
  },
  {
   "cell_type": "code",
   "execution_count": 13,
   "id": "47d25589",
   "metadata": {},
   "outputs": [
    {
     "data": {
      "text/html": [
       "<div>\n",
       "<style scoped>\n",
       "    .dataframe tbody tr th:only-of-type {\n",
       "        vertical-align: middle;\n",
       "    }\n",
       "\n",
       "    .dataframe tbody tr th {\n",
       "        vertical-align: top;\n",
       "    }\n",
       "\n",
       "    .dataframe thead th {\n",
       "        text-align: right;\n",
       "    }\n",
       "</style>\n",
       "<table border=\"1\" class=\"dataframe\">\n",
       "  <thead>\n",
       "    <tr style=\"text-align: right;\">\n",
       "      <th></th>\n",
       "      <th>Age</th>\n",
       "      <th>Gender</th>\n",
       "      <th>Blood Type</th>\n",
       "      <th>Medical Condition</th>\n",
       "      <th>Date of Admission</th>\n",
       "      <th>Doctor</th>\n",
       "      <th>Hospital</th>\n",
       "      <th>Insurance Provider</th>\n",
       "      <th>Billing Amount</th>\n",
       "      <th>Room Number</th>\n",
       "      <th>Admission Type</th>\n",
       "      <th>Discharge Date</th>\n",
       "      <th>Medication</th>\n",
       "      <th>Test Results</th>\n",
       "      <th>Prenom</th>\n",
       "      <th>Nom</th>\n",
       "    </tr>\n",
       "  </thead>\n",
       "  <tbody>\n",
       "    <tr>\n",
       "      <th>0</th>\n",
       "      <td>30</td>\n",
       "      <td>Male</td>\n",
       "      <td>B-</td>\n",
       "      <td>Cancer</td>\n",
       "      <td>2024-01-31</td>\n",
       "      <td>Matthew Smith</td>\n",
       "      <td>Sons and Miller</td>\n",
       "      <td>Blue Cross</td>\n",
       "      <td>18856.281306</td>\n",
       "      <td>328</td>\n",
       "      <td>Urgent</td>\n",
       "      <td>2024-02-02</td>\n",
       "      <td>Paracetamol</td>\n",
       "      <td>Normal</td>\n",
       "      <td>Bobby</td>\n",
       "      <td>Jackson</td>\n",
       "    </tr>\n",
       "    <tr>\n",
       "      <th>1</th>\n",
       "      <td>62</td>\n",
       "      <td>Male</td>\n",
       "      <td>A+</td>\n",
       "      <td>Obesity</td>\n",
       "      <td>2019-08-20</td>\n",
       "      <td>Samantha Davies</td>\n",
       "      <td>Kim Inc</td>\n",
       "      <td>Medicare</td>\n",
       "      <td>33643.327287</td>\n",
       "      <td>265</td>\n",
       "      <td>Emergency</td>\n",
       "      <td>2019-08-26</td>\n",
       "      <td>Ibuprofen</td>\n",
       "      <td>Inconclusive</td>\n",
       "      <td>Leslie</td>\n",
       "      <td>Terry</td>\n",
       "    </tr>\n",
       "    <tr>\n",
       "      <th>2</th>\n",
       "      <td>76</td>\n",
       "      <td>Female</td>\n",
       "      <td>A-</td>\n",
       "      <td>Obesity</td>\n",
       "      <td>2022-09-22</td>\n",
       "      <td>Tiffany Mitchell</td>\n",
       "      <td>Cook PLC</td>\n",
       "      <td>Aetna</td>\n",
       "      <td>27955.096079</td>\n",
       "      <td>205</td>\n",
       "      <td>Emergency</td>\n",
       "      <td>2022-10-07</td>\n",
       "      <td>Aspirin</td>\n",
       "      <td>Normal</td>\n",
       "      <td>Danny</td>\n",
       "      <td>Smith</td>\n",
       "    </tr>\n",
       "    <tr>\n",
       "      <th>3</th>\n",
       "      <td>28</td>\n",
       "      <td>Female</td>\n",
       "      <td>O+</td>\n",
       "      <td>Diabetes</td>\n",
       "      <td>2020-11-18</td>\n",
       "      <td>Kevin Wells</td>\n",
       "      <td>Hernandez Rogers and Vang,</td>\n",
       "      <td>Medicare</td>\n",
       "      <td>37909.782410</td>\n",
       "      <td>450</td>\n",
       "      <td>Elective</td>\n",
       "      <td>2020-12-18</td>\n",
       "      <td>Ibuprofen</td>\n",
       "      <td>Abnormal</td>\n",
       "      <td>Andrew</td>\n",
       "      <td>Watts</td>\n",
       "    </tr>\n",
       "    <tr>\n",
       "      <th>4</th>\n",
       "      <td>43</td>\n",
       "      <td>Female</td>\n",
       "      <td>AB+</td>\n",
       "      <td>Cancer</td>\n",
       "      <td>2022-09-19</td>\n",
       "      <td>Kathleen Hanna</td>\n",
       "      <td>White-White</td>\n",
       "      <td>Aetna</td>\n",
       "      <td>14238.317814</td>\n",
       "      <td>458</td>\n",
       "      <td>Urgent</td>\n",
       "      <td>2022-10-09</td>\n",
       "      <td>Penicillin</td>\n",
       "      <td>Abnormal</td>\n",
       "      <td>Adrienne</td>\n",
       "      <td>Bell</td>\n",
       "    </tr>\n",
       "  </tbody>\n",
       "</table>\n",
       "</div>"
      ],
      "text/plain": [
       "   Age  Gender Blood Type Medical Condition Date of Admission  \\\n",
       "0   30    Male         B-            Cancer        2024-01-31   \n",
       "1   62    Male         A+           Obesity        2019-08-20   \n",
       "2   76  Female         A-           Obesity        2022-09-22   \n",
       "3   28  Female         O+          Diabetes        2020-11-18   \n",
       "4   43  Female        AB+            Cancer        2022-09-19   \n",
       "\n",
       "             Doctor                    Hospital Insurance Provider  \\\n",
       "0     Matthew Smith             Sons and Miller         Blue Cross   \n",
       "1   Samantha Davies                     Kim Inc           Medicare   \n",
       "2  Tiffany Mitchell                    Cook PLC              Aetna   \n",
       "3       Kevin Wells  Hernandez Rogers and Vang,           Medicare   \n",
       "4    Kathleen Hanna                 White-White              Aetna   \n",
       "\n",
       "   Billing Amount  Room Number Admission Type Discharge Date   Medication  \\\n",
       "0    18856.281306          328         Urgent     2024-02-02  Paracetamol   \n",
       "1    33643.327287          265      Emergency     2019-08-26    Ibuprofen   \n",
       "2    27955.096079          205      Emergency     2022-10-07      Aspirin   \n",
       "3    37909.782410          450       Elective     2020-12-18    Ibuprofen   \n",
       "4    14238.317814          458         Urgent     2022-10-09   Penicillin   \n",
       "\n",
       "   Test Results    Prenom      Nom  \n",
       "0        Normal     Bobby  Jackson  \n",
       "1  Inconclusive    Leslie    Terry  \n",
       "2        Normal     Danny    Smith  \n",
       "3      Abnormal    Andrew    Watts  \n",
       "4      Abnormal  Adrienne     Bell  "
      ]
     },
     "execution_count": 13,
     "metadata": {},
     "output_type": "execute_result"
    }
   ],
   "source": [
    "df.head(5)"
   ]
  },
  {
   "cell_type": "code",
   "execution_count": 14,
   "id": "eeb90c7c",
   "metadata": {},
   "outputs": [],
   "source": [
    "df = df.rename(columns={\n",
    "    \"Blood Type\": \"Blood_type\",\n",
    "    \"Medical Condition\": \"Medical_condition\",\n",
    "    \"Admission Type\": \"Admission_type\",\n",
    "    \"Insurance Provider\": \"Insurance_provider\",\n",
    "    \"Room Number\": \"Room_number\",\n",
    "    \"Medication\": \"Medication\",\n",
    "    \"Test Results\": \"Test_results\",\n",
    "    \"Doctor\": \"Doctor\",\n",
    "    \"Hospital\": \"Hospital\",\n",
    "    \"Date of Admission\": \"Date_of_admission\",\n",
    "    \"Discharge Date\": \"Discharge_date\",\n",
    "    \"Billing Amount\": \"Billing_amount\",\n",
    "})"
   ]
  },
  {
   "cell_type": "code",
   "execution_count": null,
   "id": "fd0707c6",
   "metadata": {},
   "outputs": [],
   "source": [
    "u"
   ]
  },
  {
   "cell_type": "code",
   "execution_count": 16,
   "id": "b30d970a",
   "metadata": {},
   "outputs": [],
   "source": [
    "# Réorganiser les colonnes \n",
    "columns = ['Record_id', 'Prenom', 'Nom', 'Age', 'Gender', 'Blood_type', 'Medical_condition', \n",
    "           'Date_of_admission', 'Doctor', 'Hospital', 'Insurance_provider', 'Billing_amount', \n",
    "           'Room_number', 'Admission_type', 'Discharge_date', 'Medication', 'Test_results']\n",
    "df = df[columns]"
   ]
  },
  {
   "cell_type": "code",
   "execution_count": 17,
   "id": "b7d62f58",
   "metadata": {},
   "outputs": [
    {
     "name": "stdout",
     "output_type": "stream",
     "text": [
      "Noms vides après split : 0\n",
      "Prénoms vides après split : 0\n"
     ]
    }
   ],
   "source": [
    "# 5) Vérifs rapides\n",
    "assert df[\"Record_id\"].is_unique, \"record_id doit être unique\" #PK technique est unique \n",
    "assert df[\"Record_id\"].notna().all(), \"record_id ne doit pas contenir de NA\"\n",
    "\n",
    "print(\"Noms vides après split :\", int((df[\"Prenom\"] == \"\").sum()))\n",
    "print(\"Prénoms vides après split :\", int((df[\"Nom\"] == \"\").sum()))\n",
    "\n"
   ]
  },
  {
   "cell_type": "code",
   "execution_count": 18,
   "id": "8540b2c8",
   "metadata": {},
   "outputs": [
    {
     "name": "stdout",
     "output_type": "stream",
     "text": [
      "True\n"
     ]
    }
   ],
   "source": [
    "#Verif Record_id est unique (OK PK technique est unique)\n",
    "print(df[\"Record_id\"].is_unique)\n"
   ]
  },
  {
   "cell_type": "code",
   "execution_count": 19,
   "id": "72d75e9b",
   "metadata": {},
   "outputs": [
    {
     "name": "stdout",
     "output_type": "stream",
     "text": [
      "Clean CSV écrit → /Users/axellerolain/Desktop/P5/DATA/dataset_ready4Mongo.csv\n",
      "Shape du dataset propre : (54966, 17)\n"
     ]
    },
    {
     "data": {
      "text/html": [
       "<div>\n",
       "<style scoped>\n",
       "    .dataframe tbody tr th:only-of-type {\n",
       "        vertical-align: middle;\n",
       "    }\n",
       "\n",
       "    .dataframe tbody tr th {\n",
       "        vertical-align: top;\n",
       "    }\n",
       "\n",
       "    .dataframe thead th {\n",
       "        text-align: right;\n",
       "    }\n",
       "</style>\n",
       "<table border=\"1\" class=\"dataframe\">\n",
       "  <thead>\n",
       "    <tr style=\"text-align: right;\">\n",
       "      <th></th>\n",
       "      <th>Record_id</th>\n",
       "      <th>Prenom</th>\n",
       "      <th>Nom</th>\n",
       "      <th>Age</th>\n",
       "      <th>Gender</th>\n",
       "      <th>Blood_type</th>\n",
       "      <th>Medical_condition</th>\n",
       "      <th>Date_of_admission</th>\n",
       "      <th>Doctor</th>\n",
       "      <th>Hospital</th>\n",
       "      <th>Insurance_provider</th>\n",
       "      <th>Billing_amount</th>\n",
       "      <th>Room_number</th>\n",
       "      <th>Admission_type</th>\n",
       "      <th>Discharge_date</th>\n",
       "      <th>Medication</th>\n",
       "      <th>Test_results</th>\n",
       "    </tr>\n",
       "  </thead>\n",
       "  <tbody>\n",
       "    <tr>\n",
       "      <th>0</th>\n",
       "      <td>1</td>\n",
       "      <td>Bobby</td>\n",
       "      <td>Jackson</td>\n",
       "      <td>30</td>\n",
       "      <td>Male</td>\n",
       "      <td>B-</td>\n",
       "      <td>Cancer</td>\n",
       "      <td>2024-01-31</td>\n",
       "      <td>Matthew Smith</td>\n",
       "      <td>Sons and Miller</td>\n",
       "      <td>Blue Cross</td>\n",
       "      <td>18856.281306</td>\n",
       "      <td>328</td>\n",
       "      <td>Urgent</td>\n",
       "      <td>2024-02-02</td>\n",
       "      <td>Paracetamol</td>\n",
       "      <td>Normal</td>\n",
       "    </tr>\n",
       "    <tr>\n",
       "      <th>1</th>\n",
       "      <td>2</td>\n",
       "      <td>Leslie</td>\n",
       "      <td>Terry</td>\n",
       "      <td>62</td>\n",
       "      <td>Male</td>\n",
       "      <td>A+</td>\n",
       "      <td>Obesity</td>\n",
       "      <td>2019-08-20</td>\n",
       "      <td>Samantha Davies</td>\n",
       "      <td>Kim Inc</td>\n",
       "      <td>Medicare</td>\n",
       "      <td>33643.327287</td>\n",
       "      <td>265</td>\n",
       "      <td>Emergency</td>\n",
       "      <td>2019-08-26</td>\n",
       "      <td>Ibuprofen</td>\n",
       "      <td>Inconclusive</td>\n",
       "    </tr>\n",
       "    <tr>\n",
       "      <th>2</th>\n",
       "      <td>3</td>\n",
       "      <td>Danny</td>\n",
       "      <td>Smith</td>\n",
       "      <td>76</td>\n",
       "      <td>Female</td>\n",
       "      <td>A-</td>\n",
       "      <td>Obesity</td>\n",
       "      <td>2022-09-22</td>\n",
       "      <td>Tiffany Mitchell</td>\n",
       "      <td>Cook PLC</td>\n",
       "      <td>Aetna</td>\n",
       "      <td>27955.096079</td>\n",
       "      <td>205</td>\n",
       "      <td>Emergency</td>\n",
       "      <td>2022-10-07</td>\n",
       "      <td>Aspirin</td>\n",
       "      <td>Normal</td>\n",
       "    </tr>\n",
       "  </tbody>\n",
       "</table>\n",
       "</div>"
      ],
      "text/plain": [
       "   Record_id  Prenom      Nom  Age  Gender Blood_type Medical_condition  \\\n",
       "0          1   Bobby  Jackson   30    Male         B-            Cancer   \n",
       "1          2  Leslie    Terry   62    Male         A+           Obesity   \n",
       "2          3   Danny    Smith   76  Female         A-           Obesity   \n",
       "\n",
       "  Date_of_admission            Doctor         Hospital Insurance_provider  \\\n",
       "0        2024-01-31     Matthew Smith  Sons and Miller         Blue Cross   \n",
       "1        2019-08-20   Samantha Davies          Kim Inc           Medicare   \n",
       "2        2022-09-22  Tiffany Mitchell         Cook PLC              Aetna   \n",
       "\n",
       "   Billing_amount  Room_number Admission_type Discharge_date   Medication  \\\n",
       "0    18856.281306          328         Urgent     2024-02-02  Paracetamol   \n",
       "1    33643.327287          265      Emergency     2019-08-26    Ibuprofen   \n",
       "2    27955.096079          205      Emergency     2022-10-07      Aspirin   \n",
       "\n",
       "   Test_results  \n",
       "0        Normal  \n",
       "1  Inconclusive  \n",
       "2        Normal  "
      ]
     },
     "execution_count": 19,
     "metadata": {},
     "output_type": "execute_result"
    }
   ],
   "source": [
    "#Export final + shape\n",
    "output_path = \"/Users/axellerolain/Desktop/P5/DATA/dataset_ready4Mongo.csv\"\n",
    "df.to_csv(output_path, index=False, encoding=\"utf-8\")\n",
    "print(\"Clean CSV écrit →\", output_path)\n",
    "print(\"Shape du dataset propre :\", df.shape)\n",
    "\n",
    "df.head(3)"
   ]
  }
 ],
 "metadata": {
  "kernelspec": {
   "display_name": "Python (base)",
   "language": "python",
   "name": "base"
  },
  "language_info": {
   "codemirror_mode": {
    "name": "ipython",
    "version": 3
   },
   "file_extension": ".py",
   "mimetype": "text/x-python",
   "name": "python",
   "nbconvert_exporter": "python",
   "pygments_lexer": "ipython3",
   "version": "3.12.8"
  }
 },
 "nbformat": 4,
 "nbformat_minor": 5
}
